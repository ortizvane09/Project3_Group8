{
 "cells": [
  {
   "cell_type": "markdown",
   "metadata": {},
   "source": [
    "# Project 3 WebScrape Portion"
   ]
  },
  {
   "cell_type": "code",
   "execution_count": 2,
   "metadata": {
    "tags": []
   },
   "outputs": [],
   "source": [
    "from splinter import Browser\n",
    "from bs4 import BeautifulSoup\n",
    "import time\n",
    "from selenium.webdriver.common.by import By\n",
    "from selenium.webdriver.support.ui import WebDriverWait\n",
    "from selenium.webdriver.support import expected_conditions as EC\n",
    "import pprint\n",
    "import pandas as pd "
   ]
  },
  {
   "cell_type": "code",
   "execution_count": 21,
   "metadata": {
    "tags": []
   },
   "outputs": [],
   "source": [
    "# Set up Splinter\n",
    "browser = Browser('chrome')"
   ]
  },
  {
   "cell_type": "code",
   "execution_count": 22,
   "metadata": {
    "tags": []
   },
   "outputs": [],
   "source": [
    "# Visit the Mars Facts site\n",
    "time.sleep(5)\n",
    "\n",
    "url = \"https://apps.bea.gov/itable/?ReqID=99&step=1#eyJhcHBpZCI6OTksInN0ZXBzIjpbMSwyOSwyNSwyNiwyNyw0MF0sImRhdGEiOltbIlRhYmxlSWQiLCIyMCJdLFsiTWFqb3JBcmVhS2V5IiwiNCJdLFsiTGluZSIsIjMiXSxbIlN0YXRlIiwiNDgwMDAiXSxbIlVuaXRfb2ZfTWVhc3VyZSIsIkxldmVscyJdLFsiTWFwQ29sb3IiLCJCRUFTdGFuZGFyZCJdLFsiblJhbmdlIiwiNSJdLFsiWWVhciIsIjIwMjEiXSxbIlllYXJCZWdpbiIsIi0xIl0sWyJZZWFyRW5kIiwiLTEiXV19\"\n",
    "\n",
    "browser.visit(url)\n",
    "\n",
    "\n",
    "# Wait for the button to be clickable (you can adjust the timeout as needed)\n",
    "button = WebDriverWait(browser.driver, 10).until(\n",
    "EC.element_to_be_clickable((By.ID, 'ShowTableBtn')))\n",
    "    # Click the button\n",
    "button.click()\n",
    "\n",
    "\n",
    "\n",
    "\n"
   ]
  },
  {
   "cell_type": "code",
   "execution_count": 12,
   "metadata": {
    "tags": []
   },
   "outputs": [],
   "source": [
    "# Parse the website\n",
    "html = browser.html\n",
    "soup = BeautifulSoup(html, 'html.parser')"
   ]
  },
  {
   "cell_type": "code",
   "execution_count": 13,
   "metadata": {
    "tags": []
   },
   "outputs": [],
   "source": [
    "# Find the table\n",
    "table = soup.find(\"table\", id=\"DataTbl\")"
   ]
  },
  {
   "cell_type": "code",
   "execution_count": 7,
   "metadata": {
    "tags": []
   },
   "outputs": [
    {
     "name": "stdout",
     "output_type": "stream",
     "text": [
      "[{'GeoFips': '48000', 'City': 'Texas', '2021_Income': '59,865'}, {'GeoFips': '48001', 'City': 'Anderson, TX', '2021_Income': '42,444'}, {'GeoFips': '48003', 'City': 'Andrews, TX', '2021_Income': '52,943'}, {'GeoFips': '48005', 'City': 'Angelina, TX', '2021_Income': '46,170'}, {'GeoFips': '48007', 'City': 'Aransas, TX', '2021_Income': '59,878'}, {'GeoFips': '48009', 'City': 'Archer, TX', '2021_Income': '60,101'}, {'GeoFips': '48011', 'City': 'Armstrong, TX', '2021_Income': '61,382'}, {'GeoFips': '48013', 'City': 'Atascosa, TX', '2021_Income': '46,737'}, {'GeoFips': '48015', 'City': 'Austin, TX', '2021_Income': '58,284'}, {'GeoFips': '48017', 'City': 'Bailey, TX', '2021_Income': '51,709'}, {'GeoFips': '48019', 'City': 'Bandera, TX', '2021_Income': '58,706'}, {'GeoFips': '48021', 'City': 'Bastrop, TX', '2021_Income': '44,230'}, {'GeoFips': '48023', 'City': 'Baylor, TX', '2021_Income': '58,779'}, {'GeoFips': '48025', 'City': 'Bee, TX', '2021_Income': '34,738'}, {'GeoFips': '48027', 'City': 'Bell, TX', '2021_Income': '49,405'}, {'GeoFips': '48029', 'City': 'Bexar, TX', '2021_Income': '51,780'}, {'GeoFips': '48031', 'City': 'Blanco, TX', '2021_Income': '66,088'}, {'GeoFips': '48033', 'City': 'Borden, TX', '2021_Income': '101,470'}, {'GeoFips': '48035', 'City': 'Bosque, TX', '2021_Income': '50,943'}, {'GeoFips': '48037', 'City': 'Bowie, TX', '2021_Income': '47,792'}, {'GeoFips': '48039', 'City': 'Brazoria, TX', '2021_Income': '56,360'}, {'GeoFips': '48041', 'City': 'Brazos, TX', '2021_Income': '46,702'}, {'GeoFips': '48043', 'City': 'Brewster, TX', '2021_Income': '53,014'}, {'GeoFips': '48045', 'City': 'Briscoe, TX', '2021_Income': '58,862'}, {'GeoFips': '48047', 'City': 'Brooks, TX', '2021_Income': '43,437'}, {'GeoFips': '48049', 'City': 'Brown, TX', '2021_Income': '46,028'}, {'GeoFips': '48051', 'City': 'Burleson, TX', '2021_Income': '57,482'}, {'GeoFips': '48053', 'City': 'Burnet, TX', '2021_Income': '59,381'}, {'GeoFips': '48055', 'City': 'Caldwell, TX', '2021_Income': '41,642'}, {'GeoFips': '48057', 'City': 'Calhoun, TX', '2021_Income': '60,589'}, {'GeoFips': '48059', 'City': 'Callahan, TX', '2021_Income': '50,963'}, {'GeoFips': '48061', 'City': 'Cameron, TX', '2021_Income': '37,861'}, {'GeoFips': '48063', 'City': 'Camp, TX', '2021_Income': '46,705'}, {'GeoFips': '48065', 'City': 'Carson, TX', '2021_Income': '56,357'}, {'GeoFips': '48067', 'City': 'Cass, TX', '2021_Income': '46,101'}, {'GeoFips': '48069', 'City': 'Castro, TX', '2021_Income': '81,900'}, {'GeoFips': '48071', 'City': 'Chambers, TX', '2021_Income': '60,591'}, {'GeoFips': '48073', 'City': 'Cherokee, TX', '2021_Income': '43,376'}, {'GeoFips': '48075', 'City': 'Childress, TX', '2021_Income': '39,953'}, {'GeoFips': '48077', 'City': 'Clay, TX', '2021_Income': '51,938'}, {'GeoFips': '48079', 'City': 'Cochran, TX', '2021_Income': '62,305'}, {'GeoFips': '48081', 'City': 'Coke, TX', '2021_Income': '48,804'}, {'GeoFips': '48083', 'City': 'Coleman, TX', '2021_Income': '54,822'}, {'GeoFips': '48085', 'City': 'Collin, TX', '2021_Income': '77,006'}, {'GeoFips': '48087', 'City': 'Collingsworth, TX', '2021_Income': '54,140'}, {'GeoFips': '48089', 'City': 'Colorado, TX', '2021_Income': '59,219'}, {'GeoFips': '48091', 'City': 'Comal, TX', '2021_Income': '67,063'}, {'GeoFips': '48093', 'City': 'Comanche, TX', '2021_Income': '50,112'}, {'GeoFips': '48095', 'City': 'Concho, TX', '2021_Income': '38,635'}, {'GeoFips': '48097', 'City': 'Cooke, TX', '2021_Income': '59,800'}, {'GeoFips': '48099', 'City': 'Coryell, TX', '2021_Income': '37,476'}, {'GeoFips': '48101', 'City': 'Cottle, TX', '2021_Income': '73,613'}, {'GeoFips': '48103', 'City': 'Crane, TX', '2021_Income': '54,119'}, {'GeoFips': '48105', 'City': 'Crockett, TX', '2021_Income': '57,013'}, {'GeoFips': '48107', 'City': 'Crosby, TX', '2021_Income': '52,897'}, {'GeoFips': '48109', 'City': 'Culberson, TX', '2021_Income': '71,297'}, {'GeoFips': '48111', 'City': 'Dallam, TX', '2021_Income': '70,511'}, {'GeoFips': '48113', 'City': 'Dallas, TX', '2021_Income': '72,218'}, {'GeoFips': '48115', 'City': 'Dawson, TX', '2021_Income': '46,139'}, {'GeoFips': '48117', 'City': 'Deaf Smith, TX', '2021_Income': '60,615'}, {'GeoFips': '48119', 'City': 'Delta, TX', '2021_Income': '47,471'}, {'GeoFips': '48121', 'City': 'Denton, TX', '2021_Income': '68,773'}, {'GeoFips': '48123', 'City': 'DeWitt, TX', '2021_Income': '66,916'}, {'GeoFips': '48125', 'City': 'Dickens, TX', '2021_Income': '50,869'}, {'GeoFips': '48127', 'City': 'Dimmit, TX', '2021_Income': '55,771'}, {'GeoFips': '48129', 'City': 'Donley, TX', '2021_Income': '50,574'}, {'GeoFips': '48131', 'City': 'Duval, TX', '2021_Income': '51,887'}, {'GeoFips': '48133', 'City': 'Eastland, TX', '2021_Income': '66,400'}, {'GeoFips': '48135', 'City': 'Ector, TX', '2021_Income': '53,610'}, {'GeoFips': '48137', 'City': 'Edwards, TX', '2021_Income': '73,981'}, {'GeoFips': '48139', 'City': 'Ellis, TX', '2021_Income': '53,393'}, {'GeoFips': '48141', 'City': 'El Paso, TX', '2021_Income': '44,064'}, {'GeoFips': '48143', 'City': 'Erath, TX', '2021_Income': '46,906'}, {'GeoFips': '48145', 'City': 'Falls, TX', '2021_Income': '43,658'}, {'GeoFips': '48147', 'City': 'Fannin, TX', '2021_Income': '46,449'}, {'GeoFips': '48149', 'City': 'Fayette, TX', '2021_Income': '65,339'}, {'GeoFips': '48151', 'City': 'Fisher, TX', '2021_Income': '57,245'}, {'GeoFips': '48153', 'City': 'Floyd, TX', '2021_Income': '53,292'}, {'GeoFips': '48155', 'City': 'Foard, TX', '2021_Income': '61,279'}, {'GeoFips': '48157', 'City': 'Fort Bend, TX', '2021_Income': '65,797'}, {'GeoFips': '48159', 'City': 'Franklin, TX', '2021_Income': '51,926'}, {'GeoFips': '48161', 'City': 'Freestone, TX', '2021_Income': '44,014'}, {'GeoFips': '48163', 'City': 'Frio, TX', '2021_Income': '39,898'}, {'GeoFips': '48165', 'City': 'Gaines, TX', '2021_Income': '50,616'}, {'GeoFips': '48167', 'City': 'Galveston, TX', '2021_Income': '60,071'}, {'GeoFips': '48169', 'City': 'Garza, TX', '2021_Income': '36,426'}, {'GeoFips': '48171', 'City': 'Gillespie, TX', '2021_Income': '78,039'}, {'GeoFips': '48173', 'City': 'Glasscock, TX', '2021_Income': '124,963'}, {'GeoFips': '48175', 'City': 'Goliad, TX', '2021_Income': '55,947'}, {'GeoFips': '48177', 'City': 'Gonzales, TX', '2021_Income': '57,578'}, {'GeoFips': '48179', 'City': 'Gray, TX', '2021_Income': '49,815'}, {'GeoFips': '48181', 'City': 'Grayson, TX', '2021_Income': '52,055'}, {'GeoFips': '48183', 'City': 'Gregg, TX', '2021_Income': '52,958'}, {'GeoFips': '48185', 'City': 'Grimes, TX', '2021_Income': '41,914'}, {'GeoFips': '48187', 'City': 'Guadalupe, TX', '2021_Income': '52,190'}, {'GeoFips': '48189', 'City': 'Hale, TX', '2021_Income': '43,543'}, {'GeoFips': '48191', 'City': 'Hall, TX', '2021_Income': '48,706'}, {'GeoFips': '48193', 'City': 'Hamilton, TX', '2021_Income': '77,672'}, {'GeoFips': '48195', 'City': 'Hansford, TX', '2021_Income': '77,093'}, {'GeoFips': '48197', 'City': 'Hardeman, TX', '2021_Income': '54,847'}, {'GeoFips': '48199', 'City': 'Hardin, TX', '2021_Income': '52,544'}, {'GeoFips': '48201', 'City': 'Harris, TX', '2021_Income': '65,869'}, {'GeoFips': '48203', 'City': 'Harrison, TX', '2021_Income': '47,928'}, {'GeoFips': '48205', 'City': 'Hartley, TX', '2021_Income': '75,790'}, {'GeoFips': '48207', 'City': 'Haskell, TX', '2021_Income': '54,321'}, {'GeoFips': '48209', 'City': 'Hays, TX', '2021_Income': '56,097'}, {'GeoFips': '48211', 'City': 'Hemphill, TX', '2021_Income': '75,731'}, {'GeoFips': '48213', 'City': 'Henderson, TX', '2021_Income': '48,594'}, {'GeoFips': '48215', 'City': 'Hidalgo, TX', '2021_Income': '34,503'}, {'GeoFips': '48217', 'City': 'Hill, TX', '2021_Income': '49,968'}, {'GeoFips': '48219', 'City': 'Hockley, TX', '2021_Income': '52,586'}, {'GeoFips': '48221', 'City': 'Hood, TX', '2021_Income': '60,912'}, {'GeoFips': '48223', 'City': 'Hopkins, TX', '2021_Income': '50,272'}, {'GeoFips': '48225', 'City': 'Houston, TX', '2021_Income': '48,835'}, {'GeoFips': '48227', 'City': 'Howard, TX', '2021_Income': '51,007'}, {'GeoFips': '48229', 'City': 'Hudspeth, TX', '2021_Income': '42,500'}, {'GeoFips': '48231', 'City': 'Hunt, TX', '2021_Income': '46,801'}, {'GeoFips': '48233', 'City': 'Hutchinson, TX', '2021_Income': '50,130'}, {'GeoFips': '48235', 'City': 'Irion, TX', '2021_Income': '78,988'}, {'GeoFips': '48237', 'City': 'Jack, TX', '2021_Income': '45,263'}, {'GeoFips': '48239', 'City': 'Jackson, TX', '2021_Income': '51,971'}, {'GeoFips': '48241', 'City': 'Jasper, TX', '2021_Income': '49,475'}, {'GeoFips': '48243', 'City': 'Jeff Davis, TX', '2021_Income': '59,302'}, {'GeoFips': '48245', 'City': 'Jefferson, TX', '2021_Income': '48,243'}, {'GeoFips': '48247', 'City': 'Jim Hogg, TX', '2021_Income': '43,336'}, {'GeoFips': '48249', 'City': 'Jim Wells, TX', '2021_Income': '50,892'}, {'GeoFips': '48251', 'City': 'Johnson, TX', '2021_Income': '51,619'}, {'GeoFips': '48253', 'City': 'Jones, TX', '2021_Income': '38,914'}, {'GeoFips': '48255', 'City': 'Karnes, TX', '2021_Income': '73,144'}, {'GeoFips': '48257', 'City': 'Kaufman, TX', '2021_Income': '49,494'}, {'GeoFips': '48259', 'City': 'Kendall, TX', '2021_Income': '96,628'}, {'GeoFips': '48261', 'City': 'Kenedy, TX', '2021_Income': '47,141'}, {'GeoFips': '48263', 'City': 'Kent, TX', '2021_Income': '55,725'}, {'GeoFips': '48265', 'City': 'Kerr, TX', '2021_Income': '61,401'}, {'GeoFips': '48267', 'City': 'Kimble, TX', '2021_Income': '54,345'}, {'GeoFips': '48269', 'City': 'King, TX', '2021_Income': '91,930'}, {'GeoFips': '48271', 'City': 'Kinney, TX', '2021_Income': '42,929'}, {'GeoFips': '48273', 'City': 'Kleberg, TX', '2021_Income': '45,818'}, {'GeoFips': '48275', 'City': 'Knox, TX', '2021_Income': '50,320'}, {'GeoFips': '48277', 'City': 'Lamar, TX', '2021_Income': '50,699'}, {'GeoFips': '48279', 'City': 'Lamb, TX', '2021_Income': '54,689'}, {'GeoFips': '48281', 'City': 'Lampasas, TX', '2021_Income': '58,507'}, {'GeoFips': '48283', 'City': 'La Salle, TX', '2021_Income': '52,652'}, {'GeoFips': '48285', 'City': 'Lavaca, TX', '2021_Income': '62,375'}, {'GeoFips': '48287', 'City': 'Lee, TX', '2021_Income': '56,674'}, {'GeoFips': '48289', 'City': 'Leon, TX', '2021_Income': '53,179'}, {'GeoFips': '48291', 'City': 'Liberty, TX', '2021_Income': '42,813'}, {'GeoFips': '48293', 'City': 'Limestone, TX', '2021_Income': '47,439'}, {'GeoFips': '48295', 'City': 'Lipscomb, TX', '2021_Income': '102,569'}, {'GeoFips': '48297', 'City': 'Live Oak, TX', '2021_Income': '46,134'}, {'GeoFips': '48299', 'City': 'Llano, TX', '2021_Income': '59,689'}, {'GeoFips': '48301', 'City': 'Loving, TX', '2021_Income': '115,158'}, {'GeoFips': '48303', 'City': 'Lubbock, TX', '2021_Income': '50,881'}, {'GeoFips': '48305', 'City': 'Lynn, TX', '2021_Income': '58,496'}, {'GeoFips': '48307', 'City': 'McCulloch, TX', '2021_Income': '45,744'}, {'GeoFips': '48309', 'City': 'McLennan, TX', '2021_Income': '49,512'}, {'GeoFips': '48311', 'City': 'McMullen, TX', '2021_Income': '110,273'}, {'GeoFips': '48313', 'City': 'Madison, TX', '2021_Income': '40,859'}, {'GeoFips': '48315', 'City': 'Marion, TX', '2021_Income': '47,582'}, {'GeoFips': '48317', 'City': 'Martin, TX', '2021_Income': '84,121'}, {'GeoFips': '48319', 'City': 'Mason, TX', '2021_Income': '57,094'}, {'GeoFips': '48321', 'City': 'Matagorda, TX', '2021_Income': '50,775'}, {'GeoFips': '48323', 'City': 'Maverick, TX', '2021_Income': '38,448'}, {'GeoFips': '48325', 'City': 'Medina, TX', '2021_Income': '50,076'}, {'GeoFips': '48327', 'City': 'Menard, TX', '2021_Income': '47,390'}, {'GeoFips': '48329', 'City': 'Midland, TX', '2021_Income': '126,738'}, {'GeoFips': '48331', 'City': 'Milam, TX', '2021_Income': '45,286'}, {'GeoFips': '48333', 'City': 'Mills, TX', '2021_Income': '51,712'}, {'GeoFips': '48335', 'City': 'Mitchell, TX', '2021_Income': '35,417'}, {'GeoFips': '48337', 'City': 'Montague, TX', '2021_Income': '45,716'}, {'GeoFips': '48339', 'City': 'Montgomery, TX', '2021_Income': '68,974'}, {'GeoFips': '48341', 'City': 'Moore, TX', '2021_Income': '56,634'}, {'GeoFips': '48343', 'City': 'Morris, TX', '2021_Income': '47,226'}, {'GeoFips': '48345', 'City': 'Motley, TX', '2021_Income': '41,754'}, {'GeoFips': '48347', 'City': 'Nacogdoches, TX', '2021_Income': '46,246'}, {'GeoFips': '48349', 'City': 'Navarro, TX', '2021_Income': '45,616'}, {'GeoFips': '48351', 'City': 'Newton, TX', '2021_Income': '43,123'}, {'GeoFips': '48353', 'City': 'Nolan, TX', '2021_Income': '52,629'}, {'GeoFips': '48355', 'City': 'Nueces, TX', '2021_Income': '52,852'}, {'GeoFips': '48357', 'City': 'Ochiltree, TX', '2021_Income': '64,247'}, {'GeoFips': '48359', 'City': 'Oldham, TX', '2021_Income': '72,126'}, {'GeoFips': '48361', 'City': 'Orange, TX', '2021_Income': '48,912'}, {'GeoFips': '48363', 'City': 'Palo Pinto, TX', '2021_Income': '52,042'}, {'GeoFips': '48365', 'City': 'Panola, TX', '2021_Income': '53,292'}, {'GeoFips': '48367', 'City': 'Parker, TX', '2021_Income': '65,358'}, {'GeoFips': '48369', 'City': 'Parmer, TX', '2021_Income': '63,512'}, {'GeoFips': '48371', 'City': 'Pecos, TX', '2021_Income': '43,661'}, {'GeoFips': '48373', 'City': 'Polk, TX', '2021_Income': '47,994'}, {'GeoFips': '48375', 'City': 'Potter, TX', '2021_Income': '55,764'}, {'GeoFips': '48377', 'City': 'Presidio, TX', '2021_Income': '61,776'}, {'GeoFips': '48379', 'City': 'Rains, TX', '2021_Income': '41,563'}, {'GeoFips': '48381', 'City': 'Randall, TX', '2021_Income': '56,381'}, {'GeoFips': '48383', 'City': 'Reagan, TX', '2021_Income': '61,077'}, {'GeoFips': '48385', 'City': 'Real, TX', '2021_Income': '55,449'}, {'GeoFips': '48387', 'City': 'Red River, TX', '2021_Income': '53,818'}, {'GeoFips': '48389', 'City': 'Reeves, TX', '2021_Income': '52,811'}, {'GeoFips': '48391', 'City': 'Refugio, TX', '2021_Income': '54,475'}, {'GeoFips': '48393', 'City': 'Roberts, TX', '2021_Income': '56,868'}, {'GeoFips': '48395', 'City': 'Robertson, TX', '2021_Income': '52,894'}, {'GeoFips': '48397', 'City': 'Rockwall, TX', '2021_Income': '70,833'}, {'GeoFips': '48399', 'City': 'Runnels, TX', '2021_Income': '51,307'}, {'GeoFips': '48401', 'City': 'Rusk, TX', '2021_Income': '44,874'}, {'GeoFips': '48403', 'City': 'Sabine, TX', '2021_Income': '44,900'}, {'GeoFips': '48405', 'City': 'San Augustine, TX', '2021_Income': '50,573'}, {'GeoFips': '48407', 'City': 'San Jacinto, TX', '2021_Income': '46,477'}, {'GeoFips': '48409', 'City': 'San Patricio, TX', '2021_Income': '51,392'}, {'GeoFips': '48411', 'City': 'San Saba, TX', '2021_Income': '43,735'}, {'GeoFips': '48413', 'City': 'Schleicher, TX', '2021_Income': '51,775'}, {'GeoFips': '48415', 'City': 'Scurry, TX', '2021_Income': '47,138'}, {'GeoFips': '48417', 'City': 'Shackelford, TX', '2021_Income': '93,075'}, {'GeoFips': '48419', 'City': 'Shelby, TX', '2021_Income': '54,640'}, {'GeoFips': '48421', 'City': 'Sherman, TX', '2021_Income': '122,945'}, {'GeoFips': '48423', 'City': 'Smith, TX', '2021_Income': '60,284'}, {'GeoFips': '48425', 'City': 'Somervell, TX', '2021_Income': '54,826'}, {'GeoFips': '48427', 'City': 'Starr, TX', '2021_Income': '34,933'}, {'GeoFips': '48429', 'City': 'Stephens, TX', '2021_Income': '48,498'}, {'GeoFips': '48431', 'City': 'Sterling, TX', '2021_Income': '65,866'}, {'GeoFips': '48433', 'City': 'Stonewall, TX', '2021_Income': '73,182'}, {'GeoFips': '48435', 'City': 'Sutton, TX', '2021_Income': '68,431'}, {'GeoFips': '48437', 'City': 'Swisher, TX', '2021_Income': '72,623'}, {'GeoFips': '48439', 'City': 'Tarrant, TX', '2021_Income': '58,940'}, {'GeoFips': '48441', 'City': 'Taylor, TX', '2021_Income': '58,316'}, {'GeoFips': '48443', 'City': 'Terrell, TX', '2021_Income': '63,481'}, {'GeoFips': '48445', 'City': 'Terry, TX', '2021_Income': '45,353'}, {'GeoFips': '48447', 'City': 'Throckmorton, TX', '2021_Income': '69,390'}, {'GeoFips': '48449', 'City': 'Titus, TX', '2021_Income': '48,007'}, {'GeoFips': '48451', 'City': 'Tom Green, TX', '2021_Income': '59,877'}, {'GeoFips': '48453', 'City': 'Travis, TX', '2021_Income': '81,708'}, {'GeoFips': '48455', 'City': 'Trinity, TX', '2021_Income': '47,101'}, {'GeoFips': '48457', 'City': 'Tyler, TX', '2021_Income': '41,613'}, {'GeoFips': '48459', 'City': 'Upshur, TX', '2021_Income': '43,308'}, {'GeoFips': '48461', 'City': 'Upton, TX', '2021_Income': '61,595'}, {'GeoFips': '48463', 'City': 'Uvalde, TX', '2021_Income': '53,257'}, {'GeoFips': '48465', 'City': 'Val Verde, TX', '2021_Income': '46,642'}, {'GeoFips': '48467', 'City': 'Van Zandt, TX', '2021_Income': '45,045'}, {'GeoFips': '48469', 'City': 'Victoria, TX', '2021_Income': '58,479'}, {'GeoFips': '48471', 'City': 'Walker, TX', '2021_Income': '33,345'}, {'GeoFips': '48473', 'City': 'Waller, TX', '2021_Income': '49,404'}, {'GeoFips': '48475', 'City': 'Ward, TX', '2021_Income': '55,099'}, {'GeoFips': '48477', 'City': 'Washington, TX', '2021_Income': '61,295'}, {'GeoFips': '48479', 'City': 'Webb, TX', '2021_Income': '40,850'}, {'GeoFips': '48481', 'City': 'Wharton, TX', '2021_Income': '52,948'}, {'GeoFips': '48483', 'City': 'Wheeler, TX', '2021_Income': '49,906'}, {'GeoFips': '48485', 'City': 'Wichita, TX', '2021_Income': '50,210'}, {'GeoFips': '48487', 'City': 'Wilbarger, TX', '2021_Income': '59,952'}, {'GeoFips': '48489', 'City': 'Willacy, TX', '2021_Income': '37,792'}, {'GeoFips': '48491', 'City': 'Williamson, TX', '2021_Income': '62,931'}, {'GeoFips': '48493', 'City': 'Wilson, TX', '2021_Income': '55,762'}, {'GeoFips': '48495', 'City': 'Winkler, TX', '2021_Income': '66,180'}, {'GeoFips': '48497', 'City': 'Wise, TX', '2021_Income': '53,871'}, {'GeoFips': '48499', 'City': 'Wood, TX', '2021_Income': '47,546'}, {'GeoFips': '48501', 'City': 'Yoakum, TX', '2021_Income': '51,954'}, {'GeoFips': '48503', 'City': 'Young, TX', '2021_Income': '58,602'}, {'GeoFips': '48505', 'City': 'Zapata, TX', '2021_Income': '33,288'}, {'GeoFips': '48507', 'City': 'Zavala, TX', '2021_Income': '43,868'}, {'GeoFips': '48998', 'City': 'Texas (Metropolitan Portion)', '2021_Income': '60,960'}, {'GeoFips': '48999', 'City': 'Texas (Nonmetropolitan Portion) *', '2021_Income': '50,445'}, {'GeoFips': '10180', 'City': 'Abilene, TX (Metropolitan Statistical Area)', '2021_Income': '55,556'}, {'GeoFips': '11100', 'City': 'Amarillo, TX (Metropolitan Statistical Area)', '2021_Income': '56,248'}, {'GeoFips': '12420', 'City': 'Austin-Round Rock-Georgetown, TX (Metropolitan Statistical Area)', '2021_Income': '71,372'}, {'GeoFips': '13140', 'City': 'Beaumont-Port Arthur, TX (Metropolitan Statistical Area)', '2021_Income': '49,006'}, {'GeoFips': '15180', 'City': 'Brownsville-Harlingen, TX (Metropolitan Statistical Area)', '2021_Income': '37,861'}, {'GeoFips': '17780', 'City': 'College Station-Bryan, TX (Metropolitan Statistical Area)', '2021_Income': '47,803'}, {'GeoFips': '18580', 'City': 'Corpus Christi, TX (Metropolitan Statistical Area)', '2021_Income': '52,612'}, {'GeoFips': '19100', 'City': 'Dallas-Fort Worth-Arlington, TX (Metropolitan Statistical Area)', '2021_Income': '66,727'}, {'GeoFips': '21340', 'City': 'El Paso, TX (Metropolitan Statistical Area)', '2021_Income': '44,058'}, {'GeoFips': '26420', 'City': 'Houston-The Woodlands-Sugar Land, TX (Metropolitan Statistical Area)', '2021_Income': '64,837'}, {'GeoFips': '28660', 'City': 'Killeen-Temple, TX (Metropolitan Statistical Area)', '2021_Income': '47,755'}, {'GeoFips': '29700', 'City': 'Laredo, TX (Metropolitan Statistical Area)', '2021_Income': '40,850'}, {'GeoFips': '30980', 'City': 'Longview, TX (Metropolitan Statistical Area)', '2021_Income': '48,868'}, {'GeoFips': '31180', 'City': 'Lubbock, TX (Metropolitan Statistical Area)', '2021_Income': '51,045'}, {'GeoFips': '32580', 'City': 'McAllen-Edinburg-Mission, TX (Metropolitan Statistical Area)', '2021_Income': '34,503'}, {'GeoFips': '33260', 'City': 'Midland, TX (Metropolitan Statistical Area)', '2021_Income': '125,455'}, {'GeoFips': '36220', 'City': 'Odessa, TX (Metropolitan Statistical Area)', '2021_Income': '53,610'}, {'GeoFips': '41660', 'City': 'San Angelo, TX (Metropolitan Statistical Area)', '2021_Income': '60,187'}, {'GeoFips': '41700', 'City': 'San Antonio-New Braunfels, TX (Metropolitan Statistical Area)', '2021_Income': '53,648'}, {'GeoFips': '43300', 'City': 'Sherman-Denison, TX (Metropolitan Statistical Area)', '2021_Income': '52,055'}, {'GeoFips': '45500', 'City': 'Texarkana, TX-AR (Metropolitan Statistical Area)', '2021_Income': '45,058'}, {'GeoFips': '46340', 'City': 'Tyler, TX (Metropolitan Statistical Area)', '2021_Income': '60,284'}, {'GeoFips': '47020', 'City': 'Victoria, TX (Metropolitan Statistical Area)', '2021_Income': '58,294'}, {'GeoFips': '47380', 'City': 'Waco, TX (Metropolitan Statistical Area)', '2021_Income': '49,151'}, {'GeoFips': '48660', 'City': 'Wichita Falls, TX (Metropolitan Statistical Area)', '2021_Income': '50,905'}, {'GeoFips': '10860', 'City': 'Alice, TX (Micropolitan Statistical Area)', '2021_Income': '51,092'}, {'GeoFips': '11380', 'City': 'Andrews, TX (Micropolitan Statistical Area)', '2021_Income': '52,943'}, {'GeoFips': '11980', 'City': 'Athens, TX (Micropolitan Statistical Area)', '2021_Income': '48,594'}, {'GeoFips': '13060', 'City': 'Bay City, TX (Micropolitan Statistical Area)', '2021_Income': '50,775'}, {'GeoFips': '13300', 'City': 'Beeville, TX (Micropolitan Statistical Area)', '2021_Income': '34,738'}, {'GeoFips': '13700', 'City': 'Big Spring, TX (Micropolitan Statistical Area)', '2021_Income': '51,007'}, {'GeoFips': '14300', 'City': 'Bonham, TX (Micropolitan Statistical Area)', '2021_Income': '46,449'}, {'GeoFips': '14420', 'City': 'Borger, TX (Micropolitan Statistical Area)', '2021_Income': '50,130'}, {'GeoFips': '14780', 'City': 'Brenham, TX (Micropolitan Statistical Area)', '2021_Income': '61,295'}, {'GeoFips': '15220', 'City': 'Brownwood, TX (Micropolitan Statistical Area)', '2021_Income': '46,028'}, {'GeoFips': '18620', 'City': 'Corsicana, TX (Micropolitan Statistical Area)', '2021_Income': '45,616'}, {'GeoFips': '19620', 'City': 'Del Rio, TX (Micropolitan Statistical Area)', '2021_Income': '46,642'}, {'GeoFips': '20300', 'City': 'Dumas, TX (Micropolitan Statistical Area)', '2021_Income': '56,634'}, {'GeoFips': '20580', 'City': 'Eagle Pass, TX (Micropolitan Statistical Area)', '2021_Income': '38,448'}, {'GeoFips': '20900', 'City': 'El Campo, TX (Micropolitan Statistical Area)', '2021_Income': '52,948'}, {'GeoFips': '23240', 'City': 'Fredericksburg, TX (Micropolitan Statistical Area)', '2021_Income': '78,039'}, {'GeoFips': '23620', 'City': 'Gainesville, TX (Micropolitan Statistical Area)', '2021_Income': '59,800'}, {'GeoFips': '24180', 'City': 'Granbury, TX (Micropolitan Statistical Area)', '2021_Income': '60,912'}, {'GeoFips': '25820', 'City': 'Hereford, TX (Micropolitan Statistical Area)', '2021_Income': '60,615'}, {'GeoFips': '26660', 'City': 'Huntsville, TX (Micropolitan Statistical Area)', '2021_Income': '33,345'}, {'GeoFips': '27380', 'City': 'Jacksonville, TX (Micropolitan Statistical Area)', '2021_Income': '43,376'}, {'GeoFips': '28500', 'City': 'Kerrville, TX (Micropolitan Statistical Area)', '2021_Income': '61,401'}, {'GeoFips': '28780', 'City': 'Kingsville, TX (Micropolitan Statistical Area)', '2021_Income': '45,833'}, {'GeoFips': '29500', 'City': 'Lamesa, TX (Micropolitan Statistical Area)', '2021_Income': '46,139'}, {'GeoFips': '30220', 'City': 'Levelland, TX (Micropolitan Statistical Area)', '2021_Income': '52,586'}, {'GeoFips': '31260', 'City': 'Lufkin, TX (Micropolitan Statistical Area)', '2021_Income': '46,170'}, {'GeoFips': '33420', 'City': 'Mineral Wells, TX (Micropolitan Statistical Area)', '2021_Income': '52,042'}, {'GeoFips': '34420', 'City': 'Mount Pleasant, TX (Micropolitan Statistical Area)', '2021_Income': '47,632'}, {'GeoFips': '34860', 'City': 'Nacogdoches, TX (Micropolitan Statistical Area)', '2021_Income': '46,246'}, {'GeoFips': '37300', 'City': 'Palestine, TX (Micropolitan Statistical Area)', '2021_Income': '42,444'}, {'GeoFips': '37420', 'City': 'Pampa, TX (Micropolitan Statistical Area)', '2021_Income': '50,073'}, {'GeoFips': '37580', 'City': 'Paris, TX (Micropolitan Statistical Area)', '2021_Income': '50,699'}, {'GeoFips': '37770', 'City': 'Pearsall, TX (Micropolitan Statistical Area)', '2021_Income': '39,898'}, {'GeoFips': '37780', 'City': 'Pecos, TX (Micropolitan Statistical Area)', '2021_Income': '53,056'}, {'GeoFips': '38380', 'City': 'Plainview, TX (Micropolitan Statistical Area)', '2021_Income': '43,543'}, {'GeoFips': '38920', 'City': 'Port Lavaca, TX (Micropolitan Statistical Area)', '2021_Income': '60,589'}, {'GeoFips': '39700', 'City': 'Raymondville, TX (Micropolitan Statistical Area)', '2021_Income': '37,792'}, {'GeoFips': '40100', 'City': 'Rio Grande City-Roma, TX (Micropolitan Statistical Area)', '2021_Income': '34,933'}, {'GeoFips': '40530', 'City': 'Rockport, TX (Micropolitan Statistical Area)', '2021_Income': '59,878'}, {'GeoFips': '43660', 'City': 'Snyder, TX (Micropolitan Statistical Area)', '2021_Income': '47,138'}, {'GeoFips': '44500', 'City': 'Stephenville, TX (Micropolitan Statistical Area)', '2021_Income': '46,906'}, {'GeoFips': '44860', 'City': 'Sulphur Springs, TX (Micropolitan Statistical Area)', '2021_Income': '50,272'}, {'GeoFips': '45020', 'City': 'Sweetwater, TX (Micropolitan Statistical Area)', '2021_Income': '52,629'}, {'GeoFips': '46620', 'City': 'Uvalde, TX (Micropolitan Statistical Area)', '2021_Income': '53,257'}, {'GeoFips': '46900', 'City': 'Vernon, TX (Micropolitan Statistical Area)', '2021_Income': '59,952'}, {'GeoFips': '49820', 'City': 'Zapata, TX (Micropolitan Statistical Area)', '2021_Income': '33,288'}, {'GeoFips': '89108', 'City': 'Amarillo-Pampa-Borger, TX (Combined Statistical Area)', '2021_Income': '55,414'}, {'GeoFips': '89154', 'City': 'Brownsville-Harlingen-Raymondville, TX (Combined Statistical Area)', '2021_Income': '37,858'}, {'GeoFips': '89204', 'City': 'Corpus Christi-Kingsville-Alice, TX (Combined Statistical Area)', '2021_Income': '52,411'}, {'GeoFips': '89206', 'City': 'Dallas-Fort Worth, TX-OK (Combined Statistical Area)', '2021_Income': '65,807'}, {'GeoFips': '89238', 'City': 'El Paso-Las Cruces, TX-NM (Combined Statistical Area)', '2021_Income': '44,258'}, {'GeoFips': '89288', 'City': 'Houston-The Woodlands, TX (Combined Statistical Area)', '2021_Income': '64,351'}, {'GeoFips': '89314', 'City': 'Kerrville-Fredericksburg, TX (Combined Statistical Area)', '2021_Income': '67,045'}, {'GeoFips': '89352', 'City': 'Lubbock-Plainview-Levelland, TX (Combined Statistical Area)', '2021_Income': '50,494'}, {'GeoFips': '89365', 'City': 'McAllen-Edinburg, TX (Combined Statistical Area)', '2021_Income': '34,533'}, {'GeoFips': '89372', 'City': 'Midland-Odessa, TX (Combined Statistical Area)', '2021_Income': '90,832'}, {'GeoFips': '89484', 'City': 'San Antonio-New Braunfels-Pearsall, TX (Combined Statistical Area)', '2021_Income': '53,551'}, {'GeoFips': '89540', 'City': 'Tyler-Jacksonville, TX (Combined Statistical Area)', '2021_Income': '57,287'}, {'GeoFips': '89544', 'City': 'Victoria-Port Lavaca, TX (Combined Statistical Area)', '2021_Income': '58,679'}, {'GeoFips': '19124', 'City': 'Dallas-Plano-Irving, TX (Metropolitan Division)', '2021_Income': '70,662'}, {'GeoFips': '23104', 'City': 'Fort Worth-Arlington-Grapevine, TX (Metropolitan Division)', '2021_Income': '58,653'}]\n"
     ]
    }
   ],
   "source": [
    "table = soup.find(\"table\", id=\"DataTbl\")\n",
    "\n",
    "#Create a list of dictionaries \n",
    "if table:\n",
    "    personal_income = []  \n",
    "    \n",
    "    rows = table.find(\"tbody\").find_all(\"tr\")\n",
    "\n",
    "    for row in rows:\n",
    "        cells = row.find_all(\"td\")  \n",
    "\n",
    "        if len(cells) == 3: \n",
    "            geo_fips = cells[0].text.strip()\n",
    "            geo_name = cells[1].text.strip()\n",
    "            income_2021 = cells[2].text.strip()\n",
    "            \n",
    "            row_data = {\n",
    "                \"GeoFips\": geo_fips,\n",
    "                \"County\": geo_name,\n",
    "                \"2021_Income\": income_2021\n",
    "            }\n",
    "            personal_income.append(row_data)\n",
    "    \n",
    "    print(personal_income)\n",
    "else:\n",
    "    print(\"Table with id 'DataTbl' not found.\")"
   ]
  },
  {
   "cell_type": "code",
   "execution_count": 8,
   "metadata": {
    "tags": []
   },
   "outputs": [],
   "source": [
    "browser.quit()"
   ]
  },
  {
   "cell_type": "code",
   "execution_count": 31,
   "metadata": {
    "tags": []
   },
   "outputs": [],
   "source": [
    "browser = Browser('chrome')"
   ]
  },
  {
   "cell_type": "code",
   "execution_count": 32,
   "metadata": {
    "tags": []
   },
   "outputs": [],
   "source": [
    "time.sleep(5)\n",
    "\n",
    "url = \"https://apps.bea.gov/itable/?ReqID=99&step=1#eyJhcHBpZCI6OTksInN0ZXBzIjpbMSwyOSwyNSwyNiwyNyw0MF0sImRhdGEiOltbIlRhYmxlSWQiLCIyMCJdLFsiTWFqb3JBcmVhS2V5IiwiNCJdLFsiTGluZSIsIjIiXSxbIlN0YXRlIiwiNDgwMDAiXSxbIlVuaXRfb2ZfTWVhc3VyZSIsIkxldmVscyJdLFsiTWFwQ29sb3IiLCJCRUFTdGFuZGFyZCJdLFsiblJhbmdlIiwiNSJdLFsiWWVhciIsIjIwMjEiXSxbIlllYXJCZWdpbiIsIi0xIl0sWyJZZWFyRW5kIiwiLTEiXV19\"\n",
    "browser.visit(url)\n",
    "\n",
    "\n",
    "# Wait for the button to be clickable (you can adjust the timeout as needed)\n",
    "button = WebDriverWait(browser.driver, 10).until(\n",
    "EC.element_to_be_clickable((By.ID, 'ShowTableBtn')))\n",
    "    # Click the button\n",
    "button.click()"
   ]
  },
  {
   "cell_type": "code",
   "execution_count": 33,
   "metadata": {
    "tags": []
   },
   "outputs": [],
   "source": [
    "html = browser.html\n",
    "soup = BeautifulSoup(html, 'html.parser')"
   ]
  },
  {
   "cell_type": "code",
   "execution_count": 34,
   "metadata": {
    "tags": []
   },
   "outputs": [],
   "source": [
    "table2 = soup.find(\"table\", id=\"DataTbl\")"
   ]
  },
  {
   "cell_type": "code",
   "execution_count": 35,
   "metadata": {
    "tags": []
   },
   "outputs": [
    {
     "name": "stdout",
     "output_type": "stream",
     "text": [
      "[{'GeoFips': '48000', 'City': 'Texas', 'Population': '29,527,941'}, {'GeoFips': '48001', 'City': 'Anderson, TX', 'Population': '58,402'}, {'GeoFips': '48003', 'City': 'Andrews, TX', 'Population': '18,440'}, {'GeoFips': '48005', 'City': 'Angelina, TX', 'Population': '86,506'}, {'GeoFips': '48007', 'City': 'Aransas, TX', 'Population': '24,510'}, {'GeoFips': '48009', 'City': 'Archer, TX', 'Population': '8,681'}, {'GeoFips': '48011', 'City': 'Armstrong, TX', 'Population': '1,839'}, {'GeoFips': '48013', 'City': 'Atascosa, TX', 'Population': '49,939'}, {'GeoFips': '48015', 'City': 'Austin, TX', 'Population': '30,380'}, {'GeoFips': '48017', 'City': 'Bailey, TX', 'Population': '6,835'}, {'GeoFips': '48019', 'City': 'Bandera, TX', 'Population': '21,565'}, {'GeoFips': '48021', 'City': 'Bastrop, TX', 'Population': '102,058'}, {'GeoFips': '48023', 'City': 'Baylor, TX', 'Population': '3,477'}, {'GeoFips': '48025', 'City': 'Bee, TX', 'Population': '30,924'}, {'GeoFips': '48027', 'City': 'Bell, TX', 'Population': '379,617'}, {'GeoFips': '48029', 'City': 'Bexar, TX', 'Population': '2,028,236'}, {'GeoFips': '48031', 'City': 'Blanco, TX', 'Population': '11,886'}, {'GeoFips': '48033', 'City': 'Borden, TX', 'Population': '617'}, {'GeoFips': '48035', 'City': 'Bosque, TX', 'Population': '18,503'}, {'GeoFips': '48037', 'City': 'Bowie, TX', 'Population': '92,581'}, {'GeoFips': '48039', 'City': 'Brazoria, TX', 'Population': '379,689'}, {'GeoFips': '48041', 'City': 'Brazos, TX', 'Population': '237,032'}, {'GeoFips': '48043', 'City': 'Brewster, TX', 'Population': '9,450'}, {'GeoFips': '48045', 'City': 'Briscoe, TX', 'Population': '1,403'}, {'GeoFips': '48047', 'City': 'Brooks, TX', 'Population': '6,994'}, {'GeoFips': '48049', 'City': 'Brown, TX', 'Population': '38,192'}, {'GeoFips': '48051', 'City': 'Burleson, TX', 'Population': '18,051'}, {'GeoFips': '48053', 'City': 'Burnet, TX', 'Population': '50,954'}, {'GeoFips': '48055', 'City': 'Caldwell, TX', 'Population': '46,791'}, {'GeoFips': '48057', 'City': 'Calhoun, TX', 'Population': '19,727'}, {'GeoFips': '48059', 'City': 'Callahan, TX', 'Population': '14,115'}, {'GeoFips': '48061', 'City': 'Cameron, TX', 'Population': '423,029'}, {'GeoFips': '48063', 'City': 'Camp, TX', 'Population': '12,616'}, {'GeoFips': '48065', 'City': 'Carson, TX', 'Population': '5,746'}, {'GeoFips': '48067', 'City': 'Cass, TX', 'Population': '28,560'}, {'GeoFips': '48069', 'City': 'Castro, TX', 'Population': '7,374'}, {'GeoFips': '48071', 'City': 'Chambers, TX', 'Population': '48,865'}, {'GeoFips': '48073', 'City': 'Cherokee, TX', 'Population': '51,097'}, {'GeoFips': '48075', 'City': 'Childress, TX', 'Population': '6,736'}, {'GeoFips': '48077', 'City': 'Clay, TX', 'Population': '10,263'}, {'GeoFips': '48079', 'City': 'Cochran, TX', 'Population': '2,516'}, {'GeoFips': '48081', 'City': 'Coke, TX', 'Population': '3,321'}, {'GeoFips': '48083', 'City': 'Coleman, TX', 'Population': '7,735'}, {'GeoFips': '48085', 'City': 'Collin, TX', 'Population': '1,109,462'}, {'GeoFips': '48087', 'City': 'Collingsworth, TX', 'Population': '2,615'}, {'GeoFips': '48089', 'City': 'Colorado, TX', 'Population': '20,630'}, {'GeoFips': '48091', 'City': 'Comal, TX', 'Population': '174,986'}, {'GeoFips': '48093', 'City': 'Comanche, TX', 'Population': '13,775'}, {'GeoFips': '48095', 'City': 'Concho, TX', 'Population': '3,341'}, {'GeoFips': '48097', 'City': 'Cooke, TX', 'Population': '42,244'}, {'GeoFips': '48099', 'City': 'Coryell, TX', 'Population': '84,232'}, {'GeoFips': '48101', 'City': 'Cottle, TX', 'Population': '1,381'}, {'GeoFips': '48103', 'City': 'Crane, TX', 'Population': '4,680'}, {'GeoFips': '48105', 'City': 'Crockett, TX', 'Population': '3,068'}, {'GeoFips': '48107', 'City': 'Crosby, TX', 'Population': '5,106'}, {'GeoFips': '48109', 'City': 'Culberson, TX', 'Population': '2,193'}, {'GeoFips': '48111', 'City': 'Dallam, TX', 'Population': '7,172'}, {'GeoFips': '48113', 'City': 'Dallas, TX', 'Population': '2,586,050'}, {'GeoFips': '48115', 'City': 'Dawson, TX', 'Population': '12,413'}, {'GeoFips': '48117', 'City': 'Deaf Smith, TX', 'Population': '18,329'}, {'GeoFips': '48119', 'City': 'Delta, TX', 'Population': '5,392'}, {'GeoFips': '48121', 'City': 'Denton, TX', 'Population': '941,647'}, {'GeoFips': '48123', 'City': 'DeWitt, TX', 'Population': '19,918'}, {'GeoFips': '48125', 'City': 'Dickens, TX', 'Population': '1,740'}, {'GeoFips': '48127', 'City': 'Dimmit, TX', 'Population': '8,473'}, {'GeoFips': '48129', 'City': 'Donley, TX', 'Population': '3,268'}, {'GeoFips': '48131', 'City': 'Duval, TX', 'Population': '9,756'}, {'GeoFips': '48133', 'City': 'Eastland, TX', 'Population': '17,864'}, {'GeoFips': '48135', 'City': 'Ector, TX', 'Population': '161,091'}, {'GeoFips': '48137', 'City': 'Edwards, TX', 'Population': '1,438'}, {'GeoFips': '48139', 'City': 'Ellis, TX', 'Population': '202,678'}, {'GeoFips': '48141', 'City': 'El Paso, TX', 'Population': '867,947'}, {'GeoFips': '48143', 'City': 'Erath, TX', 'Population': '43,378'}, {'GeoFips': '48145', 'City': 'Falls, TX', 'Population': '17,313'}, {'GeoFips': '48147', 'City': 'Fannin, TX', 'Population': '36,569'}, {'GeoFips': '48149', 'City': 'Fayette, TX', 'Population': '24,687'}, {'GeoFips': '48151', 'City': 'Fisher, TX', 'Population': '3,706'}, {'GeoFips': '48153', 'City': 'Floyd, TX', 'Population': '5,350'}, {'GeoFips': '48155', 'City': 'Foard, TX', 'Population': '1,080'}, {'GeoFips': '48157', 'City': 'Fort Bend, TX', 'Population': '858,527'}, {'GeoFips': '48159', 'City': 'Franklin, TX', 'Population': '10,464'}, {'GeoFips': '48161', 'City': 'Freestone, TX', 'Population': '19,774'}, {'GeoFips': '48163', 'City': 'Frio, TX', 'Population': '18,436'}, {'GeoFips': '48165', 'City': 'Gaines, TX', 'Population': '21,895'}, {'GeoFips': '48167', 'City': 'Galveston, TX', 'Population': '355,062'}, {'GeoFips': '48169', 'City': 'Garza, TX', 'Population': '5,863'}, {'GeoFips': '48171', 'City': 'Gillespie, TX', 'Population': '27,297'}, {'GeoFips': '48173', 'City': 'Glasscock, TX', 'Population': '1,149'}, {'GeoFips': '48175', 'City': 'Goliad, TX', 'Population': '7,163'}, {'GeoFips': '48177', 'City': 'Gonzales, TX', 'Population': '19,641'}, {'GeoFips': '48179', 'City': 'Gray, TX', 'Population': '21,030'}, {'GeoFips': '48181', 'City': 'Grayson, TX', 'Population': '139,336'}, {'GeoFips': '48183', 'City': 'Gregg, TX', 'Population': '124,201'}, {'GeoFips': '48185', 'City': 'Grimes, TX', 'Population': '30,287'}, {'GeoFips': '48187', 'City': 'Guadalupe, TX', 'Population': '177,036'}, {'GeoFips': '48189', 'City': 'Hale, TX', 'Population': '32,220'}, {'GeoFips': '48191', 'City': 'Hall, TX', 'Population': '2,845'}, {'GeoFips': '48193', 'City': 'Hamilton, TX', 'Population': '8,229'}, {'GeoFips': '48195', 'City': 'Hansford, TX', 'Population': '5,159'}, {'GeoFips': '48197', 'City': 'Hardeman, TX', 'Population': '3,552'}, {'GeoFips': '48199', 'City': 'Hardin, TX', 'Population': '56,973'}, {'GeoFips': '48201', 'City': 'Harris, TX', 'Population': '4,728,030'}, {'GeoFips': '48203', 'City': 'Harrison, TX', 'Population': '69,150'}, {'GeoFips': '48205', 'City': 'Hartley, TX', 'Population': '5,397'}, {'GeoFips': '48207', 'City': 'Haskell, TX', 'Population': '5,411'}, {'GeoFips': '48209', 'City': 'Hays, TX', 'Population': '255,397'}, {'GeoFips': '48211', 'City': 'Hemphill, TX', 'Population': '3,271'}, {'GeoFips': '48213', 'City': 'Henderson, TX', 'Population': '83,667'}, {'GeoFips': '48215', 'City': 'Hidalgo, TX', 'Population': '880,356'}, {'GeoFips': '48217', 'City': 'Hill, TX', 'Population': '36,471'}, {'GeoFips': '48219', 'City': 'Hockley, TX', 'Population': '21,363'}, {'GeoFips': '48221', 'City': 'Hood, TX', 'Population': '64,222'}, {'GeoFips': '48223', 'City': 'Hopkins, TX', 'Population': '37,211'}, {'GeoFips': '48225', 'City': 'Houston, TX', 'Population': '22,241'}, {'GeoFips': '48227', 'City': 'Howard, TX', 'Population': '34,128'}, {'GeoFips': '48229', 'City': 'Hudspeth, TX', 'Population': '3,287'}, {'GeoFips': '48231', 'City': 'Hunt, TX', 'Population': '103,394'}, {'GeoFips': '48233', 'City': 'Hutchinson, TX', 'Population': '20,495'}, {'GeoFips': '48235', 'City': 'Irion, TX', 'Population': '1,552'}, {'GeoFips': '48237', 'City': 'Jack, TX', 'Population': '8,712'}, {'GeoFips': '48239', 'City': 'Jackson, TX', 'Population': '15,121'}, {'GeoFips': '48241', 'City': 'Jasper, TX', 'Population': '32,975'}, {'GeoFips': '48243', 'City': 'Jeff Davis, TX', 'Population': '1,949'}, {'GeoFips': '48245', 'City': 'Jefferson, TX', 'Population': '253,704'}, {'GeoFips': '48247', 'City': 'Jim Hogg, TX', 'Population': '4,801'}, {'GeoFips': '48249', 'City': 'Jim Wells, TX', 'Population': '38,847'}, {'GeoFips': '48251', 'City': 'Johnson, TX', 'Population': '187,280'}, {'GeoFips': '48253', 'City': 'Jones, TX', 'Population': '19,873'}, {'GeoFips': '48255', 'City': 'Karnes, TX', 'Population': '14,754'}, {'GeoFips': '48257', 'City': 'Kaufman, TX', 'Population': '157,768'}, {'GeoFips': '48259', 'City': 'Kendall, TX', 'Population': '46,788'}, {'GeoFips': '48261', 'City': 'Kenedy, TX', 'Population': '340'}, {'GeoFips': '48263', 'City': 'Kent, TX', 'Population': '749'}, {'GeoFips': '48265', 'City': 'Kerr, TX', 'Population': '53,161'}, {'GeoFips': '48267', 'City': 'Kimble, TX', 'Population': '4,365'}, {'GeoFips': '48269', 'City': 'King, TX', 'Population': '258'}, {'GeoFips': '48271', 'City': 'Kinney, TX', 'Population': '3,130'}, {'GeoFips': '48273', 'City': 'Kleberg, TX', 'Population': '30,635'}, {'GeoFips': '48275', 'City': 'Knox, TX', 'Population': '3,351'}, {'GeoFips': '48277', 'City': 'Lamar, TX', 'Population': '50,098'}, {'GeoFips': '48279', 'City': 'Lamb, TX', 'Population': '12,898'}, {'GeoFips': '48281', 'City': 'Lampasas, TX', 'Population': '22,252'}, {'GeoFips': '48283', 'City': 'La Salle, TX', 'Population': '6,670'}, {'GeoFips': '48285', 'City': 'Lavaca, TX', 'Population': '20,544'}, {'GeoFips': '48287', 'City': 'Lee, TX', 'Population': '17,706'}, {'GeoFips': '48289', 'City': 'Leon, TX', 'Population': '15,959'}, {'GeoFips': '48291', 'City': 'Liberty, TX', 'Population': '97,621'}, {'GeoFips': '48293', 'City': 'Limestone, TX', 'Population': '22,119'}, {'GeoFips': '48295', 'City': 'Lipscomb, TX', 'Population': '2,931'}, {'GeoFips': '48297', 'City': 'Live Oak, TX', 'Population': '11,377'}, {'GeoFips': '48299', 'City': 'Llano, TX', 'Population': '21,978'}, {'GeoFips': '48301', 'City': 'Loving, TX', 'Population': '57'}, {'GeoFips': '48303', 'City': 'Lubbock, TX', 'Population': '314,451'}, {'GeoFips': '48305', 'City': 'Lynn, TX', 'Population': '5,688'}, {'GeoFips': '48307', 'City': 'McCulloch, TX', 'Population': '7,533'}, {'GeoFips': '48309', 'City': 'McLennan, TX', 'Population': '263,115'}, {'GeoFips': '48311', 'City': 'McMullen, TX', 'Population': '608'}, {'GeoFips': '48313', 'City': 'Madison, TX', 'Population': '13,718'}, {'GeoFips': '48315', 'City': 'Marion, TX', 'Population': '9,645'}, {'GeoFips': '48317', 'City': 'Martin, TX', 'Population': '5,211'}, {'GeoFips': '48319', 'City': 'Mason, TX', 'Population': '3,943'}, {'GeoFips': '48321', 'City': 'Matagorda, TX', 'Population': '36,344'}, {'GeoFips': '48323', 'City': 'Maverick, TX', 'Population': '58,056'}, {'GeoFips': '48325', 'City': 'Medina, TX', 'Population': '51,981'}, {'GeoFips': '48327', 'City': 'Menard, TX', 'Population': '1,982'}, {'GeoFips': '48329', 'City': 'Midland, TX', 'Population': '167,969'}, {'GeoFips': '48331', 'City': 'Milam, TX', 'Population': '25,106'}, {'GeoFips': '48333', 'City': 'Mills, TX', 'Population': '4,480'}, {'GeoFips': '48335', 'City': 'Mitchell, TX', 'Population': '9,070'}, {'GeoFips': '48337', 'City': 'Montague, TX', 'Population': '20,409'}, {'GeoFips': '48339', 'City': 'Montgomery, TX', 'Population': '648,886'}, {'GeoFips': '48341', 'City': 'Moore, TX', 'Population': '21,118'}, {'GeoFips': '48343', 'City': 'Morris, TX', 'Population': '12,030'}, {'GeoFips': '48345', 'City': 'Motley, TX', 'Population': '1,067'}, {'GeoFips': '48347', 'City': 'Nacogdoches, TX', 'Population': '64,668'}, {'GeoFips': '48349', 'City': 'Navarro, TX', 'Population': '53,591'}, {'GeoFips': '48351', 'City': 'Newton, TX', 'Population': '12,241'}, {'GeoFips': '48353', 'City': 'Nolan, TX', 'Population': '14,597'}, {'GeoFips': '48355', 'City': 'Nueces, TX', 'Population': '353,079'}, {'GeoFips': '48357', 'City': 'Ochiltree, TX', 'Population': '9,782'}, {'GeoFips': '48359', 'City': 'Oldham, TX', 'Population': '1,717'}, {'GeoFips': '48361', 'City': 'Orange, TX', 'Population': '84,742'}, {'GeoFips': '48363', 'City': 'Palo Pinto, TX', 'Population': '28,686'}, {'GeoFips': '48365', 'City': 'Panola, TX', 'Population': '22,675'}, {'GeoFips': '48367', 'City': 'Parker, TX', 'Population': '156,764'}, {'GeoFips': '48369', 'City': 'Parmer, TX', 'Population': '9,813'}, {'GeoFips': '48371', 'City': 'Pecos, TX', 'Population': '15,118'}, {'GeoFips': '48373', 'City': 'Polk, TX', 'Population': '51,899'}, {'GeoFips': '48375', 'City': 'Potter, TX', 'Population': '116,547'}, {'GeoFips': '48377', 'City': 'Presidio, TX', 'Population': '6,140'}, {'GeoFips': '48379', 'City': 'Rains, TX', 'Population': '12,509'}, {'GeoFips': '48381', 'City': 'Randall, TX', 'Population': '143,854'}, {'GeoFips': '48383', 'City': 'Reagan, TX', 'Population': '3,253'}, {'GeoFips': '48385', 'City': 'Real, TX', 'Population': '2,826'}, {'GeoFips': '48387', 'City': 'Red River, TX', 'Population': '11,555'}, {'GeoFips': '48389', 'City': 'Reeves, TX', 'Population': '14,487'}, {'GeoFips': '48391', 'City': 'Refugio, TX', 'Population': '6,756'}, {'GeoFips': '48393', 'City': 'Roberts, TX', 'Population': '797'}, {'GeoFips': '48395', 'City': 'Robertson, TX', 'Population': '16,958'}, {'GeoFips': '48397', 'City': 'Rockwall, TX', 'Population': '116,381'}, {'GeoFips': '48399', 'City': 'Runnels, TX', 'Population': '9,943'}, {'GeoFips': '48401', 'City': 'Rusk, TX', 'Population': '52,743'}, {'GeoFips': '48403', 'City': 'Sabine, TX', 'Population': '10,039'}, {'GeoFips': '48405', 'City': 'San Augustine, TX', 'Population': '7,922'}, {'GeoFips': '48407', 'City': 'San Jacinto, TX', 'Population': '27,878'}, {'GeoFips': '48409', 'City': 'San Patricio, TX', 'Population': '69,699'}, {'GeoFips': '48411', 'City': 'San Saba, TX', 'Population': '5,827'}, {'GeoFips': '48413', 'City': 'Schleicher, TX', 'Population': '2,429'}, {'GeoFips': '48415', 'City': 'Scurry, TX', 'Population': '16,824'}, {'GeoFips': '48417', 'City': 'Shackelford, TX', 'Population': '3,212'}, {'GeoFips': '48419', 'City': 'Shelby, TX', 'Population': '23,939'}, {'GeoFips': '48421', 'City': 'Sherman, TX', 'Population': '2,798'}, {'GeoFips': '48423', 'City': 'Smith, TX', 'Population': '237,186'}, {'GeoFips': '48425', 'City': 'Somervell, TX', 'Population': '9,469'}, {'GeoFips': '48427', 'City': 'Starr, TX', 'Population': '66,049'}, {'GeoFips': '48429', 'City': 'Stephens, TX', 'Population': '9,173'}, {'GeoFips': '48431', 'City': 'Sterling, TX', 'Population': '1,381'}, {'GeoFips': '48433', 'City': 'Stonewall, TX', 'Population': '1,217'}, {'GeoFips': '48435', 'City': 'Sutton, TX', 'Population': '3,319'}, {'GeoFips': '48437', 'City': 'Swisher, TX', 'Population': '7,008'}, {'GeoFips': '48439', 'City': 'Tarrant, TX', 'Population': '2,126,477'}, {'GeoFips': '48441', 'City': 'Taylor, TX', 'Population': '143,326'}, {'GeoFips': '48443', 'City': 'Terrell, TX', 'Population': '724'}, {'GeoFips': '48445', 'City': 'Terry, TX', 'Population': '11,754'}, {'GeoFips': '48447', 'City': 'Throckmorton, TX', 'Population': '1,495'}, {'GeoFips': '48449', 'City': 'Titus, TX', 'Population': '31,183'}, {'GeoFips': '48451', 'City': 'Tom Green, TX', 'Population': '119,411'}, {'GeoFips': '48453', 'City': 'Travis, TX', 'Population': '1,305,154'}, {'GeoFips': '48455', 'City': 'Trinity, TX', 'Population': '13,827'}, {'GeoFips': '48457', 'City': 'Tyler, TX', 'Population': '20,077'}, {'GeoFips': '48459', 'City': 'Upshur, TX', 'Population': '41,774'}, {'GeoFips': '48461', 'City': 'Upton, TX', 'Population': '3,265'}, {'GeoFips': '48463', 'City': 'Uvalde, TX', 'Population': '24,729'}, {'GeoFips': '48465', 'City': 'Val Verde, TX', 'Population': '47,564'}, {'GeoFips': '48467', 'City': 'Van Zandt, TX', 'Population': '61,275'}, {'GeoFips': '48469', 'City': 'Victoria, TX', 'Population': '90,964'}, {'GeoFips': '48471', 'City': 'Walker, TX', 'Population': '77,977'}, {'GeoFips': '48473', 'City': 'Waller, TX', 'Population': '59,781'}, {'GeoFips': '48475', 'City': 'Ward, TX', 'Population': '11,194'}, {'GeoFips': '48477', 'City': 'Washington, TX', 'Population': '35,891'}, {'GeoFips': '48479', 'City': 'Webb, TX', 'Population': '267,945'}, {'GeoFips': '48481', 'City': 'Wharton, TX', 'Population': '41,721'}, {'GeoFips': '48483', 'City': 'Wheeler, TX', 'Population': '4,927'}, {'GeoFips': '48485', 'City': 'Wichita, TX', 'Population': '130,069'}, {'GeoFips': '48487', 'City': 'Wilbarger, TX', 'Population': '12,731'}, {'GeoFips': '48489', 'City': 'Willacy, TX', 'Population': '20,316'}, {'GeoFips': '48491', 'City': 'Williamson, TX', 'Population': '643,026'}, {'GeoFips': '48493', 'City': 'Wilson, TX', 'Population': '51,257'}, {'GeoFips': '48495', 'City': 'Winkler, TX', 'Population': '7,415'}, {'GeoFips': '48497', 'City': 'Wise, TX', 'Population': '71,714'}, {'GeoFips': '48499', 'City': 'Wood, TX', 'Population': '45,875'}, {'GeoFips': '48501', 'City': 'Yoakum, TX', 'Population': '7,607'}, {'GeoFips': '48503', 'City': 'Young, TX', 'Population': '17,977'}, {'GeoFips': '48505', 'City': 'Zapata, TX', 'Population': '13,908'}, {'GeoFips': '48507', 'City': 'Zavala, TX', 'Population': '9,534'}, {'GeoFips': '48998', 'City': 'Texas (Metropolitan Portion)', 'Population': '26,452,989'}, {'GeoFips': '48999', 'City': 'Texas (Nonmetropolitan Portion) *', 'Population': '3,074,952'}, {'GeoFips': '10180', 'City': 'Abilene, TX (Metropolitan Statistical Area)', 'Population': '177,314'}, {'GeoFips': '11100', 'City': 'Amarillo, TX (Metropolitan Statistical Area)', 'Population': '269,703'}, {'GeoFips': '12420', 'City': 'Austin-Round Rock-Georgetown, TX (Metropolitan Statistical Area)', 'Population': '2,352,426'}, {'GeoFips': '13140', 'City': 'Beaumont-Port Arthur, TX (Metropolitan Statistical Area)', 'Population': '395,419'}, {'GeoFips': '15180', 'City': 'Brownsville-Harlingen, TX (Metropolitan Statistical Area)', 'Population': '423,029'}, {'GeoFips': '17780', 'City': 'College Station-Bryan, TX (Metropolitan Statistical Area)', 'Population': '272,041'}, {'GeoFips': '18580', 'City': 'Corpus Christi, TX (Metropolitan Statistical Area)', 'Population': '422,778'}, {'GeoFips': '19100', 'City': 'Dallas-Fort Worth-Arlington, TX (Metropolitan Statistical Area)', 'Population': '7,759,615'}, {'GeoFips': '21340', 'City': 'El Paso, TX (Metropolitan Statistical Area)', 'Population': '871,234'}, {'GeoFips': '26420', 'City': 'Houston-The Woodlands-Sugar Land, TX (Metropolitan Statistical Area)', 'Population': '7,206,841'}, {'GeoFips': '28660', 'City': 'Killeen-Temple, TX (Metropolitan Statistical Area)', 'Population': '486,101'}, {'GeoFips': '29700', 'City': 'Laredo, TX (Metropolitan Statistical Area)', 'Population': '267,945'}, {'GeoFips': '30980', 'City': 'Longview, TX (Metropolitan Statistical Area)', 'Population': '287,868'}, {'GeoFips': '31180', 'City': 'Lubbock, TX (Metropolitan Statistical Area)', 'Population': '325,245'}, {'GeoFips': '32580', 'City': 'McAllen-Edinburg-Mission, TX (Metropolitan Statistical Area)', 'Population': '880,356'}, {'GeoFips': '33260', 'City': 'Midland, TX (Metropolitan Statistical Area)', 'Population': '173,180'}, {'GeoFips': '36220', 'City': 'Odessa, TX (Metropolitan Statistical Area)', 'Population': '161,091'}, {'GeoFips': '41660', 'City': 'San Angelo, TX (Metropolitan Statistical Area)', 'Population': '122,344'}, {'GeoFips': '41700', 'City': 'San Antonio-New Braunfels, TX (Metropolitan Statistical Area)', 'Population': '2,601,788'}, {'GeoFips': '43300', 'City': 'Sherman-Denison, TX (Metropolitan Statistical Area)', 'Population': '139,336'}, {'GeoFips': '45500', 'City': 'Texarkana, TX-AR (Metropolitan Statistical Area)', 'Population': '147,174'}, {'GeoFips': '46340', 'City': 'Tyler, TX (Metropolitan Statistical Area)', 'Population': '237,186'}, {'GeoFips': '47020', 'City': 'Victoria, TX (Metropolitan Statistical Area)', 'Population': '98,127'}, {'GeoFips': '47380', 'City': 'Waco, TX (Metropolitan Statistical Area)', 'Population': '280,428'}, {'GeoFips': '48660', 'City': 'Wichita Falls, TX (Metropolitan Statistical Area)', 'Population': '149,013'}, {'GeoFips': '10860', 'City': 'Alice, TX (Micropolitan Statistical Area)', 'Population': '48,603'}, {'GeoFips': '11380', 'City': 'Andrews, TX (Micropolitan Statistical Area)', 'Population': '18,440'}, {'GeoFips': '11980', 'City': 'Athens, TX (Micropolitan Statistical Area)', 'Population': '83,667'}, {'GeoFips': '13060', 'City': 'Bay City, TX (Micropolitan Statistical Area)', 'Population': '36,344'}, {'GeoFips': '13300', 'City': 'Beeville, TX (Micropolitan Statistical Area)', 'Population': '30,924'}, {'GeoFips': '13700', 'City': 'Big Spring, TX (Micropolitan Statistical Area)', 'Population': '34,128'}, {'GeoFips': '14300', 'City': 'Bonham, TX (Micropolitan Statistical Area)', 'Population': '36,569'}, {'GeoFips': '14420', 'City': 'Borger, TX (Micropolitan Statistical Area)', 'Population': '20,495'}, {'GeoFips': '14780', 'City': 'Brenham, TX (Micropolitan Statistical Area)', 'Population': '35,891'}, {'GeoFips': '15220', 'City': 'Brownwood, TX (Micropolitan Statistical Area)', 'Population': '38,192'}, {'GeoFips': '18620', 'City': 'Corsicana, TX (Micropolitan Statistical Area)', 'Population': '53,591'}, {'GeoFips': '19620', 'City': 'Del Rio, TX (Micropolitan Statistical Area)', 'Population': '47,564'}, {'GeoFips': '20300', 'City': 'Dumas, TX (Micropolitan Statistical Area)', 'Population': '21,118'}, {'GeoFips': '20580', 'City': 'Eagle Pass, TX (Micropolitan Statistical Area)', 'Population': '58,056'}, {'GeoFips': '20900', 'City': 'El Campo, TX (Micropolitan Statistical Area)', 'Population': '41,721'}, {'GeoFips': '23240', 'City': 'Fredericksburg, TX (Micropolitan Statistical Area)', 'Population': '27,297'}, {'GeoFips': '23620', 'City': 'Gainesville, TX (Micropolitan Statistical Area)', 'Population': '42,244'}, {'GeoFips': '24180', 'City': 'Granbury, TX (Micropolitan Statistical Area)', 'Population': '64,222'}, {'GeoFips': '25820', 'City': 'Hereford, TX (Micropolitan Statistical Area)', 'Population': '18,329'}, {'GeoFips': '26660', 'City': 'Huntsville, TX (Micropolitan Statistical Area)', 'Population': '77,977'}, {'GeoFips': '27380', 'City': 'Jacksonville, TX (Micropolitan Statistical Area)', 'Population': '51,097'}, {'GeoFips': '28500', 'City': 'Kerrville, TX (Micropolitan Statistical Area)', 'Population': '53,161'}, {'GeoFips': '28780', 'City': 'Kingsville, TX (Micropolitan Statistical Area)', 'Population': '30,975'}, {'GeoFips': '29500', 'City': 'Lamesa, TX (Micropolitan Statistical Area)', 'Population': '12,413'}, {'GeoFips': '30220', 'City': 'Levelland, TX (Micropolitan Statistical Area)', 'Population': '21,363'}, {'GeoFips': '31260', 'City': 'Lufkin, TX (Micropolitan Statistical Area)', 'Population': '86,506'}, {'GeoFips': '33420', 'City': 'Mineral Wells, TX (Micropolitan Statistical Area)', 'Population': '28,686'}, {'GeoFips': '34420', 'City': 'Mount Pleasant, TX (Micropolitan Statistical Area)', 'Population': '43,799'}, {'GeoFips': '34860', 'City': 'Nacogdoches, TX (Micropolitan Statistical Area)', 'Population': '64,668'}, {'GeoFips': '37300', 'City': 'Palestine, TX (Micropolitan Statistical Area)', 'Population': '58,402'}, {'GeoFips': '37420', 'City': 'Pampa, TX (Micropolitan Statistical Area)', 'Population': '21,827'}, {'GeoFips': '37580', 'City': 'Paris, TX (Micropolitan Statistical Area)', 'Population': '50,098'}, {'GeoFips': '37770', 'City': 'Pearsall, TX (Micropolitan Statistical Area)', 'Population': '18,436'}, {'GeoFips': '37780', 'City': 'Pecos, TX (Micropolitan Statistical Area)', 'Population': '14,544'}, {'GeoFips': '38380', 'City': 'Plainview, TX (Micropolitan Statistical Area)', 'Population': '32,220'}, {'GeoFips': '38920', 'City': 'Port Lavaca, TX (Micropolitan Statistical Area)', 'Population': '19,727'}, {'GeoFips': '39700', 'City': 'Raymondville, TX (Micropolitan Statistical Area)', 'Population': '20,316'}, {'GeoFips': '40100', 'City': 'Rio Grande City-Roma, TX (Micropolitan Statistical Area)', 'Population': '66,049'}, {'GeoFips': '40530', 'City': 'Rockport, TX (Micropolitan Statistical Area)', 'Population': '24,510'}, {'GeoFips': '43660', 'City': 'Snyder, TX (Micropolitan Statistical Area)', 'Population': '16,824'}, {'GeoFips': '44500', 'City': 'Stephenville, TX (Micropolitan Statistical Area)', 'Population': '43,378'}, {'GeoFips': '44860', 'City': 'Sulphur Springs, TX (Micropolitan Statistical Area)', 'Population': '37,211'}, {'GeoFips': '45020', 'City': 'Sweetwater, TX (Micropolitan Statistical Area)', 'Population': '14,597'}, {'GeoFips': '46620', 'City': 'Uvalde, TX (Micropolitan Statistical Area)', 'Population': '24,729'}, {'GeoFips': '46900', 'City': 'Vernon, TX (Micropolitan Statistical Area)', 'Population': '12,731'}, {'GeoFips': '49820', 'City': 'Zapata, TX (Micropolitan Statistical Area)', 'Population': '13,908'}, {'GeoFips': '89108', 'City': 'Amarillo-Pampa-Borger, TX (Combined Statistical Area)', 'Population': '312,025'}, {'GeoFips': '89154', 'City': 'Brownsville-Harlingen-Raymondville, TX (Combined Statistical Area)', 'Population': '443,345'}, {'GeoFips': '89204', 'City': 'Corpus Christi-Kingsville-Alice, TX (Combined Statistical Area)', 'Population': '526,866'}, {'GeoFips': '89206', 'City': 'Dallas-Fort Worth, TX-OK (Combined Statistical Area)', 'Population': '8,255,035'}, {'GeoFips': '89238', 'City': 'El Paso-Las Cruces, TX-NM (Combined Statistical Area)', 'Population': '1,092,742'}, {'GeoFips': '89288', 'City': 'Houston-The Woodlands, TX (Combined Statistical Area)', 'Population': '7,398,774'}, {'GeoFips': '89314', 'City': 'Kerrville-Fredericksburg, TX (Combined Statistical Area)', 'Population': '80,458'}, {'GeoFips': '89352', 'City': 'Lubbock-Plainview-Levelland, TX (Combined Statistical Area)', 'Population': '378,828'}, {'GeoFips': '89365', 'City': 'McAllen-Edinburg, TX (Combined Statistical Area)', 'Population': '946,405'}, {'GeoFips': '89372', 'City': 'Midland-Odessa, TX (Combined Statistical Area)', 'Population': '334,271'}, {'GeoFips': '89484', 'City': 'San Antonio-New Braunfels-Pearsall, TX (Combined Statistical Area)', 'Population': '2,620,224'}, {'GeoFips': '89540', 'City': 'Tyler-Jacksonville, TX (Combined Statistical Area)', 'Population': '288,283'}, {'GeoFips': '89544', 'City': 'Victoria-Port Lavaca, TX (Combined Statistical Area)', 'Population': '117,854'}, {'GeoFips': '19124', 'City': 'Dallas-Plano-Irving, TX (Metropolitan Division)', 'Population': '5,217,380'}, {'GeoFips': '23104', 'City': 'Fort Worth-Arlington-Grapevine, TX (Metropolitan Division)', 'Population': '2,542,235'}]\n"
     ]
    }
   ],
   "source": [
    "table2 = soup.find(\"table\", id=\"DataTbl\")\n",
    "\n",
    "#Create a list of dictionaries \n",
    "if table2:\n",
    "    population = []  \n",
    "    \n",
    "    rows = table2.find(\"tbody\").find_all(\"tr\")\n",
    "\n",
    "    for row in rows:\n",
    "        cells = row.find_all(\"td\")  \n",
    "\n",
    "        if len(cells) == 3: \n",
    "            geo_fips = cells[0].text.strip()\n",
    "            geo_name = cells[1].text.strip()\n",
    "            population_2021 = cells[2].text.strip()\n",
    "            \n",
    "            row_data = {\n",
    "                \"GeoFips\": geo_fips,\n",
    "                \"County\": geo_name,\n",
    "                \"Population\": population_2021\n",
    "            }\n",
    "            population.append(row_data)\n",
    "    \n",
    "    print(population)\n",
    "else:\n",
    "    print(\"Table with id 'DataTbl' not found.\")"
   ]
  },
  {
   "cell_type": "code",
   "execution_count": 18,
   "metadata": {
    "tags": []
   },
   "outputs": [],
   "source": [
    "browser.quit()"
   ]
  },
  {
   "cell_type": "code",
   "execution_count": 9,
   "metadata": {
    "tags": []
   },
   "outputs": [
    {
     "data": {
      "text/html": [
       "<div>\n",
       "<style scoped>\n",
       "    .dataframe tbody tr th:only-of-type {\n",
       "        vertical-align: middle;\n",
       "    }\n",
       "\n",
       "    .dataframe tbody tr th {\n",
       "        vertical-align: top;\n",
       "    }\n",
       "\n",
       "    .dataframe thead th {\n",
       "        text-align: right;\n",
       "    }\n",
       "</style>\n",
       "<table border=\"1\" class=\"dataframe\">\n",
       "  <thead>\n",
       "    <tr style=\"text-align: right;\">\n",
       "      <th></th>\n",
       "      <th>GeoFips</th>\n",
       "      <th>City</th>\n",
       "      <th>2021_Income</th>\n",
       "    </tr>\n",
       "  </thead>\n",
       "  <tbody>\n",
       "    <tr>\n",
       "      <th>0</th>\n",
       "      <td>48000</td>\n",
       "      <td>Texas</td>\n",
       "      <td>59,865</td>\n",
       "    </tr>\n",
       "    <tr>\n",
       "      <th>1</th>\n",
       "      <td>48001</td>\n",
       "      <td>Anderson, TX</td>\n",
       "      <td>42,444</td>\n",
       "    </tr>\n",
       "    <tr>\n",
       "      <th>2</th>\n",
       "      <td>48003</td>\n",
       "      <td>Andrews, TX</td>\n",
       "      <td>52,943</td>\n",
       "    </tr>\n",
       "    <tr>\n",
       "      <th>3</th>\n",
       "      <td>48005</td>\n",
       "      <td>Angelina, TX</td>\n",
       "      <td>46,170</td>\n",
       "    </tr>\n",
       "    <tr>\n",
       "      <th>4</th>\n",
       "      <td>48007</td>\n",
       "      <td>Aransas, TX</td>\n",
       "      <td>59,878</td>\n",
       "    </tr>\n",
       "  </tbody>\n",
       "</table>\n",
       "</div>"
      ],
      "text/plain": [
       "  GeoFips          City 2021_Income\n",
       "0   48000         Texas      59,865\n",
       "1   48001  Anderson, TX      42,444\n",
       "2   48003   Andrews, TX      52,943\n",
       "3   48005  Angelina, TX      46,170\n",
       "4   48007   Aransas, TX      59,878"
      ]
     },
     "execution_count": 9,
     "metadata": {},
     "output_type": "execute_result"
    }
   ],
   "source": [
    "# Put Data into DataFrame\n",
    "income_df = pd.DataFrame(personal_income)\n",
    "income_df.head()"
   ]
  },
  {
   "cell_type": "code",
   "execution_count": 41,
   "metadata": {
    "tags": []
   },
   "outputs": [],
   "source": [
    "#Drop The Texas Row\n",
    "income_df = income_df.drop(0)\n",
    "\n",
    "#Reset the Index\n",
    "income_df = income_df.reset_index(drop=True)\n"
   ]
  },
  {
   "cell_type": "code",
   "execution_count": 42,
   "metadata": {
    "tags": []
   },
   "outputs": [
    {
     "data": {
      "text/html": [
       "<div>\n",
       "<style scoped>\n",
       "    .dataframe tbody tr th:only-of-type {\n",
       "        vertical-align: middle;\n",
       "    }\n",
       "\n",
       "    .dataframe tbody tr th {\n",
       "        vertical-align: top;\n",
       "    }\n",
       "\n",
       "    .dataframe thead th {\n",
       "        text-align: right;\n",
       "    }\n",
       "</style>\n",
       "<table border=\"1\" class=\"dataframe\">\n",
       "  <thead>\n",
       "    <tr style=\"text-align: right;\">\n",
       "      <th></th>\n",
       "      <th>GeoFips</th>\n",
       "      <th>City</th>\n",
       "      <th>2021_Income</th>\n",
       "    </tr>\n",
       "  </thead>\n",
       "  <tbody>\n",
       "    <tr>\n",
       "      <th>0</th>\n",
       "      <td>48001</td>\n",
       "      <td>Anderson, TX</td>\n",
       "      <td>42,444</td>\n",
       "    </tr>\n",
       "    <tr>\n",
       "      <th>1</th>\n",
       "      <td>48003</td>\n",
       "      <td>Andrews, TX</td>\n",
       "      <td>52,943</td>\n",
       "    </tr>\n",
       "    <tr>\n",
       "      <th>2</th>\n",
       "      <td>48005</td>\n",
       "      <td>Angelina, TX</td>\n",
       "      <td>46,170</td>\n",
       "    </tr>\n",
       "    <tr>\n",
       "      <th>3</th>\n",
       "      <td>48007</td>\n",
       "      <td>Aransas, TX</td>\n",
       "      <td>59,878</td>\n",
       "    </tr>\n",
       "    <tr>\n",
       "      <th>4</th>\n",
       "      <td>48009</td>\n",
       "      <td>Archer, TX</td>\n",
       "      <td>60,101</td>\n",
       "    </tr>\n",
       "  </tbody>\n",
       "</table>\n",
       "</div>"
      ],
      "text/plain": [
       "  GeoFips          City 2021_Income\n",
       "0   48001  Anderson, TX      42,444\n",
       "1   48003   Andrews, TX      52,943\n",
       "2   48005  Angelina, TX      46,170\n",
       "3   48007   Aransas, TX      59,878\n",
       "4   48009    Archer, TX      60,101"
      ]
     },
     "execution_count": 42,
     "metadata": {},
     "output_type": "execute_result"
    }
   ],
   "source": [
    "income_df.head()"
   ]
  },
  {
   "cell_type": "code",
   "execution_count": 54,
   "metadata": {
    "tags": []
   },
   "outputs": [
    {
     "data": {
      "text/plain": [
       "<bound method DataFrame.dropna of     GeoFips                                               City 2021_Income\n",
       "0     48001                                       Anderson, TX      42,444\n",
       "1     48003                                        Andrews, TX      52,943\n",
       "2     48005                                       Angelina, TX      46,170\n",
       "3     48007                                        Aransas, TX      59,878\n",
       "4     48009                                         Archer, TX      60,101\n",
       "..      ...                                                ...         ...\n",
       "337   89484  San Antonio-New Braunfels-Pearsall, TX (Combin...      53,551\n",
       "338   89540  Tyler-Jacksonville, TX (Combined Statistical A...      57,287\n",
       "339   89544  Victoria-Port Lavaca, TX (Combined Statistical...      58,679\n",
       "340   19124    Dallas-Plano-Irving, TX (Metropolitan Division)      70,662\n",
       "341   23104  Fort Worth-Arlington-Grapevine, TX (Metropolit...      58,653\n",
       "\n",
       "[342 rows x 3 columns]>"
      ]
     },
     "execution_count": 54,
     "metadata": {},
     "output_type": "execute_result"
    }
   ],
   "source": [
    "#drop any NA data\n",
    "income_df.dropna"
   ]
  },
  {
   "cell_type": "code",
   "execution_count": 55,
   "metadata": {
    "tags": []
   },
   "outputs": [
    {
     "data": {
      "text/plain": [
       "GeoFips        342\n",
       "City           342\n",
       "2021_Income    342\n",
       "dtype: int64"
      ]
     },
     "execution_count": 55,
     "metadata": {},
     "output_type": "execute_result"
    }
   ],
   "source": [
    "income_df.count()"
   ]
  },
  {
   "cell_type": "code",
   "execution_count": 36,
   "metadata": {},
   "outputs": [
    {
     "data": {
      "text/html": [
       "<div>\n",
       "<style scoped>\n",
       "    .dataframe tbody tr th:only-of-type {\n",
       "        vertical-align: middle;\n",
       "    }\n",
       "\n",
       "    .dataframe tbody tr th {\n",
       "        vertical-align: top;\n",
       "    }\n",
       "\n",
       "    .dataframe thead th {\n",
       "        text-align: right;\n",
       "    }\n",
       "</style>\n",
       "<table border=\"1\" class=\"dataframe\">\n",
       "  <thead>\n",
       "    <tr style=\"text-align: right;\">\n",
       "      <th></th>\n",
       "      <th>GeoFips</th>\n",
       "      <th>City</th>\n",
       "      <th>Population</th>\n",
       "    </tr>\n",
       "  </thead>\n",
       "  <tbody>\n",
       "    <tr>\n",
       "      <th>0</th>\n",
       "      <td>48000</td>\n",
       "      <td>Texas</td>\n",
       "      <td>29,527,941</td>\n",
       "    </tr>\n",
       "    <tr>\n",
       "      <th>1</th>\n",
       "      <td>48001</td>\n",
       "      <td>Anderson, TX</td>\n",
       "      <td>58,402</td>\n",
       "    </tr>\n",
       "    <tr>\n",
       "      <th>2</th>\n",
       "      <td>48003</td>\n",
       "      <td>Andrews, TX</td>\n",
       "      <td>18,440</td>\n",
       "    </tr>\n",
       "    <tr>\n",
       "      <th>3</th>\n",
       "      <td>48005</td>\n",
       "      <td>Angelina, TX</td>\n",
       "      <td>86,506</td>\n",
       "    </tr>\n",
       "    <tr>\n",
       "      <th>4</th>\n",
       "      <td>48007</td>\n",
       "      <td>Aransas, TX</td>\n",
       "      <td>24,510</td>\n",
       "    </tr>\n",
       "  </tbody>\n",
       "</table>\n",
       "</div>"
      ],
      "text/plain": [
       "  GeoFips          City  Population\n",
       "0   48000         Texas  29,527,941\n",
       "1   48001  Anderson, TX      58,402\n",
       "2   48003   Andrews, TX      18,440\n",
       "3   48005  Angelina, TX      86,506\n",
       "4   48007   Aransas, TX      24,510"
      ]
     },
     "execution_count": 36,
     "metadata": {},
     "output_type": "execute_result"
    }
   ],
   "source": [
    "population_df = pd.DataFrame(population)\n",
    "population_df.head()"
   ]
  },
  {
   "cell_type": "code",
   "execution_count": 37,
   "metadata": {
    "tags": []
   },
   "outputs": [],
   "source": [
    "#Drop The Texas Row\n",
    "population_df = population_df.drop(0)\n",
    "\n",
    "#Reset the Index\n",
    "population_df = population_df.reset_index(drop=True)"
   ]
  },
  {
   "cell_type": "code",
   "execution_count": 38,
   "metadata": {
    "tags": []
   },
   "outputs": [
    {
     "data": {
      "text/plain": [
       "<bound method DataFrame.dropna of     GeoFips                                               City Population\n",
       "0     48001                                       Anderson, TX     58,402\n",
       "1     48003                                        Andrews, TX     18,440\n",
       "2     48005                                       Angelina, TX     86,506\n",
       "3     48007                                        Aransas, TX     24,510\n",
       "4     48009                                         Archer, TX      8,681\n",
       "..      ...                                                ...        ...\n",
       "337   89484  San Antonio-New Braunfels-Pearsall, TX (Combin...  2,620,224\n",
       "338   89540  Tyler-Jacksonville, TX (Combined Statistical A...    288,283\n",
       "339   89544  Victoria-Port Lavaca, TX (Combined Statistical...    117,854\n",
       "340   19124    Dallas-Plano-Irving, TX (Metropolitan Division)  5,217,380\n",
       "341   23104  Fort Worth-Arlington-Grapevine, TX (Metropolit...  2,542,235\n",
       "\n",
       "[342 rows x 3 columns]>"
      ]
     },
     "execution_count": 38,
     "metadata": {},
     "output_type": "execute_result"
    }
   ],
   "source": [
    "population_df.dropna"
   ]
  },
  {
   "cell_type": "code",
   "execution_count": 39,
   "metadata": {
    "tags": []
   },
   "outputs": [
    {
     "data": {
      "text/plain": [
       "GeoFips       342\n",
       "City          342\n",
       "Population    342\n",
       "dtype: int64"
      ]
     },
     "execution_count": 39,
     "metadata": {},
     "output_type": "execute_result"
    }
   ],
   "source": [
    "population_df.count()"
   ]
  },
  {
   "cell_type": "code",
   "execution_count": null,
   "metadata": {},
   "outputs": [],
   "source": []
  }
 ],
 "metadata": {
  "kernelspec": {
   "display_name": "Python 3 (ipykernel)",
   "language": "python",
   "name": "python3"
  },
  "language_info": {
   "codemirror_mode": {
    "name": "ipython",
    "version": 3
   },
   "file_extension": ".py",
   "mimetype": "text/x-python",
   "name": "python",
   "nbconvert_exporter": "python",
   "pygments_lexer": "ipython3",
   "version": "3.10.11"
  },
  "vscode": {
   "interpreter": {
    "hash": "31f2aee4e71d21fbe5cf8b01ff0e069b9275f58929596ceb00d14d90e3e16cd6"
   }
  }
 },
 "nbformat": 4,
 "nbformat_minor": 4
}
